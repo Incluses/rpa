{
 "cells": [
  {
   "cell_type": "markdown",
   "metadata": {},
   "source": [
    "<h1><center>Análise Dados</center></h1>\n",
    "<h3><center>RPA para trazer as informações do banco do primeiro ano para o segundo</center></h3>\n",
    "\n",
    "***\n",
    "\n",
    "Banco de dados: \n",
    "* db_incluses (2 ano, postgresql e mongo)\n",
    "* db_incluses (1 ano, postgresql)\n",
    "\n",
    "Conteúdo deste notebook:\n",
    "1. Imports\n",
    "1. Trazendo valores da .env\n",
    "1. Trazendo valores do banco do primeiro para o do segundo\n",
    "    1. postgresql\n",
    "        1. trazendo as alterações da situacao_trabalhista\n",
    "        1. trazendo as alterações do tipo_vaga\n",
    "        1. trazendo as alterações do setor\n",
    "        1. trazendo as alterações do tipo_arquivo\n",
    "        1. trazendo as alterações da permissao_curso\n",
    "        1. trazendo as alterações da permissao_vaga"
   ]
  },
  {
   "cell_type": "markdown",
   "metadata": {},
   "source": [
    "## Imports"
   ]
  },
  {
   "cell_type": "code",
   "execution_count": 37,
   "metadata": {},
   "outputs": [],
   "source": [
    "import os\n",
    "import psycopg2\n",
    "import pandas as pd\n",
    "from dotenv import load_dotenv"
   ]
  },
  {
   "cell_type": "markdown",
   "metadata": {},
   "source": [
    "## Trazendo valores da .env"
   ]
  },
  {
   "cell_type": "code",
   "execution_count": 38,
   "metadata": {},
   "outputs": [],
   "source": [
    "# Esse comando carrega as variáveis de ambiente do arquivo .env para o ambiente Python, permitindo o uso seguro de credenciais e configurações sensíveis.\n",
    "load_dotenv()\n",
    "\n",
    "# Trando as valores para a conexão do bancoDB, partir do arquivo .env.\n",
    "host_1ano = os.getenv(\"DB_HOST_1ano\")\n",
    "port_1ano = int(os.getenv(\"DB_PORT_1ano\"))\n",
    "user_1ano = os.getenv(\"DB_USER_1ano\")\n",
    "password_1ano = os.getenv(\"DB_PASSWORD_1ano\")\n",
    "database_1ano = os.getenv(\"DB_NAME_1ano\")\n",
    "db_url_1ano = os.getenv(\"DATABASE_URL_1ano\")\n",
    "\n",
    "host_2ano = os.getenv(\"DB_HOST_2ano\")\n",
    "port_2ano = int(os.getenv(\"DB_PORT_2ano\"))\n",
    "user_2ano = os.getenv(\"DB_USER_2ano\")\n",
    "password_2ano = os.getenv(\"DB_PASSWORD_2ano\")\n",
    "database_2ano = os.getenv(\"DB_NAME_2ano\")\n",
    "db_url_2ano = os.getenv(\"DATABASE_URL_2ano\")"
   ]
  },
  {
   "cell_type": "markdown",
   "metadata": {},
   "source": [
    "## Trazendo valores do banco do primeiro para o do segundo"
   ]
  },
  {
   "cell_type": "markdown",
   "metadata": {},
   "source": [
    "## postgresql"
   ]
  },
  {
   "cell_type": "markdown",
   "metadata": {},
   "source": [
    "#### trazendo as alterações da situacao_trabalhista"
   ]
  },
  {
   "cell_type": "code",
   "execution_count": 39,
   "metadata": {},
   "outputs": [
    {
     "name": "stderr",
     "output_type": "stream",
     "text": [
      "C:\\Users\\lucalucareli-ieg\\AppData\\Local\\Temp\\ipykernel_14728\\417009313.py:20: UserWarning: pandas only supports SQLAlchemy connectable (engine/connection) or database string URI or sqlite3 DBAPI2 connection. Other DBAPI2 objects are not tested. Please consider using SQLAlchemy.\n",
      "  df_situacao_trabalhista_1ano = pd.read_sql_query('''SELECT * FROM situacao_trabalhista''', conn_1ano)\n"
     ]
    }
   ],
   "source": [
    "try:\n",
    "    # Conecta ao banco de dados do 1º ano.\n",
    "    conn_1ano = psycopg2.connect(\n",
    "        user=user_1ano, \n",
    "        host=host_1ano,\n",
    "        port=port_1ano,\n",
    "        password=password_1ano,\n",
    "        database=database_1ano,\n",
    "    )\n",
    "    # Conecta ao banco de dados do 2º ano.\n",
    "    conn_2ano = psycopg2.connect(\n",
    "        user=user_2ano,\n",
    "        host=host_2ano,\n",
    "        port=port_2ano,\n",
    "        password=password_2ano,\n",
    "        database=database_2ano,\n",
    "    )\n",
    "\n",
    "    # Trazendo todos os registros da tabela 'situacao_trabalhista' no banco do 1º ano e armazena em um DataFrame.\n",
    "    df_situacao_trabalhista_1ano = pd.read_sql_query('''SELECT * FROM situacao_trabalhista''', conn_1ano)\n",
    "\n",
    "    # Cria um cursor para executar comandos no banco de dados do 2º ano.\n",
    "    cursor_2ano = conn_2ano.cursor()\n",
    "\n",
    "    for i in range(len(df_situacao_trabalhista_1ano)):\n",
    "        # Define os valores para a atualização da tabela 'situacao_trabalhista' no banco do 2º ano (nome e id).\n",
    "        values = (df_situacao_trabalhista_1ano['nome'][i], df_situacao_trabalhista_1ano['id'][i])\n",
    "\n",
    "        # Query para inserir ou atualizar, utilizando ON CONFLICT para evitar duplicidade\n",
    "        upsert_query = \"\"\"\n",
    "            INSERT INTO public.situacao_trabalhista (nome, id) \n",
    "            VALUES (%s, %s) \n",
    "            ON CONFLICT (id) DO UPDATE \n",
    "            SET nome = EXCLUDED.nome, id = EXCLUDED.id\n",
    "        \"\"\"\n",
    "        \n",
    "        # Executando o comando de upsert\n",
    "        cursor_2ano.execute(upsert_query, values)\n",
    "\n",
    "    # Confirma as alterações no banco de dados do 2º ano.\n",
    "    conn_2ano.commit()\n",
    "\n",
    "    # Fecha as conexões com os dois bancos de dados.\n",
    "    conn_2ano.close()\n",
    "    conn_1ano.close()\n",
    "\n",
    "except Exception as e:\n",
    "    print(\"Error connecting to PostgreSQL:\", e)"
   ]
  },
  {
   "cell_type": "markdown",
   "metadata": {},
   "source": [
    "#### trazendo as alterações do tipo_vaga"
   ]
  },
  {
   "cell_type": "code",
   "execution_count": 40,
   "metadata": {},
   "outputs": [
    {
     "name": "stderr",
     "output_type": "stream",
     "text": [
      "C:\\Users\\lucalucareli-ieg\\AppData\\Local\\Temp\\ipykernel_14728\\1533698047.py:20: UserWarning: pandas only supports SQLAlchemy connectable (engine/connection) or database string URI or sqlite3 DBAPI2 connection. Other DBAPI2 objects are not tested. Please consider using SQLAlchemy.\n",
      "  df_tipo_vaga_1ano = pd.read_sql_query('''SELECT * FROM tipo_vaga''', conn_1ano)\n"
     ]
    }
   ],
   "source": [
    "try:\n",
    "    # Conecta ao banco de dados do 1º ano.\n",
    "    conn_1ano = psycopg2.connect(\n",
    "        user=user_1ano,\n",
    "        host=host_1ano,\n",
    "        port=port_1ano,\n",
    "        password=password_1ano,\n",
    "        database=database_1ano,\n",
    "    )\n",
    "    # Conecta ao banco de dados do 2º ano.\n",
    "    conn_2ano = psycopg2.connect(\n",
    "        user=user_2ano,\n",
    "        host=host_2ano,\n",
    "        port=port_2ano,\n",
    "        password=password_2ano,\n",
    "        database=database_2ano,\n",
    "    )\n",
    "\n",
    "    # Trazendo todos os registros da tabela 'tipo_vaga' no banco do 1º ano e armazena em um DataFrame.\n",
    "    df_tipo_vaga_1ano = pd.read_sql_query('''SELECT * FROM tipo_vaga''', conn_1ano)\n",
    "\n",
    "    # Cria um cursor para executar comandos no banco de dados do 2º ano.\n",
    "    cursor_2ano = conn_2ano.cursor()\n",
    "\n",
    "    for i in range(len(df_tipo_vaga_1ano)):\n",
    "        # Define os valores para a atualização da tabela 'tipo_vaga' no banco do 2º ano (nome e id).\n",
    "        values = (df_tipo_vaga_1ano['nome'][i], df_tipo_vaga_1ano['id'][i])\n",
    "\n",
    "        # Query para inserir ou atualizar, utilizando ON CONFLICT para evitar duplicidade\n",
    "        upsert_query = \"\"\"\n",
    "            INSERT INTO public.tipo_vaga (nome, id) \n",
    "            VALUES (%s, %s) \n",
    "            ON CONFLICT (id) DO UPDATE \n",
    "            SET nome = EXCLUDED.nome, id = EXCLUDED.id\n",
    "        \"\"\"\n",
    "        \n",
    "        # Executando o comando de upsert\n",
    "        cursor_2ano.execute(upsert_query, values)\n",
    "\n",
    "    # Confirma as alterações no banco de dados do 2º ano.\n",
    "    conn_2ano.commit()\n",
    "\n",
    "    # Fecha as conexões com os dois bancos de dados.\n",
    "    conn_2ano.close()\n",
    "    conn_1ano.close()\n",
    "\n",
    "except Exception as e:\n",
    "    print(\"Error connecting to PostgreSQL:\", e)\n"
   ]
  },
  {
   "cell_type": "markdown",
   "metadata": {},
   "source": [
    "#### trazendo as alterações do setor"
   ]
  },
  {
   "cell_type": "code",
   "execution_count": 41,
   "metadata": {},
   "outputs": [
    {
     "name": "stderr",
     "output_type": "stream",
     "text": [
      "C:\\Users\\lucalucareli-ieg\\AppData\\Local\\Temp\\ipykernel_14728\\4100927087.py:20: UserWarning: pandas only supports SQLAlchemy connectable (engine/connection) or database string URI or sqlite3 DBAPI2 connection. Other DBAPI2 objects are not tested. Please consider using SQLAlchemy.\n",
      "  df_setor_1ano = pd.read_sql_query('''SELECT * FROM setor''', conn_1ano)\n"
     ]
    }
   ],
   "source": [
    "try:\n",
    "    # Conecta ao banco de dados do 1º ano.\n",
    "    conn_1ano = psycopg2.connect(\n",
    "        user=user_1ano,\n",
    "        host=host_1ano,\n",
    "        port=port_1ano,\n",
    "        password=password_1ano,\n",
    "        database=database_1ano,\n",
    "    )\n",
    "    # Conecta ao banco de dados do 2º ano.\n",
    "    conn_2ano = psycopg2.connect(\n",
    "        user=user_2ano,\n",
    "        host=host_2ano,\n",
    "        port=port_2ano,\n",
    "        password=password_2ano,\n",
    "        database=database_2ano,\n",
    "    )\n",
    "\n",
    "    # Trazendo todos os registros da tabela 'setor' no banco do 1º ano e armazena em um DataFrame.\n",
    "    df_setor_1ano = pd.read_sql_query('''SELECT * FROM setor''', conn_1ano)\n",
    "\n",
    "    # Cria um cursor para executar comandos no banco de dados do 2º ano.\n",
    "    cursor_2ano = conn_2ano.cursor()\n",
    "\n",
    "    for i in range(len(df_setor_1ano)):\n",
    "        # Define os valores para a atualização da tabela 'setor' no banco do 2º ano (nome e id).\n",
    "        values = (df_setor_1ano['nome'][i], df_setor_1ano['id'][i])\n",
    "\n",
    "        # Query para inserir ou atualizar, utilizando ON CONFLICT para evitar duplicidade\n",
    "        upsert_query = \"\"\"\n",
    "            INSERT INTO public.setor (nome, id) \n",
    "            VALUES (%s, %s) \n",
    "            ON CONFLICT (id) DO UPDATE \n",
    "            SET nome = EXCLUDED.nome, id = EXCLUDED.id\n",
    "        \"\"\"\n",
    "\n",
    "        # Executando o comando de upsert\n",
    "        cursor_2ano.execute(upsert_query, values)\n",
    "\n",
    "    # Confirma as alterações no banco de dados do 2º ano.\n",
    "    conn_2ano.commit()\n",
    "\n",
    "    # Fecha as conexões com os dois bancos de dados.\n",
    "    conn_2ano.close()\n",
    "    conn_1ano.close()\n",
    "\n",
    "except Exception as e:\n",
    "    print(\"Error connecting to PostgreSQL:\", e)"
   ]
  },
  {
   "cell_type": "markdown",
   "metadata": {},
   "source": [
    "#### trazendo as alterações do tipo_arquivo"
   ]
  },
  {
   "cell_type": "code",
   "execution_count": 42,
   "metadata": {},
   "outputs": [
    {
     "name": "stderr",
     "output_type": "stream",
     "text": [
      "C:\\Users\\lucalucareli-ieg\\AppData\\Local\\Temp\\ipykernel_14728\\1929139991.py:20: UserWarning: pandas only supports SQLAlchemy connectable (engine/connection) or database string URI or sqlite3 DBAPI2 connection. Other DBAPI2 objects are not tested. Please consider using SQLAlchemy.\n",
      "  df_tipo_arquivo_1ano = pd.read_sql_query('''SELECT * FROM tipo_arquivo''', conn_1ano)\n"
     ]
    }
   ],
   "source": [
    "try:\n",
    "    # Conecta ao banco de dados do 1º ano.\n",
    "    conn_1ano = psycopg2.connect(\n",
    "        user=user_1ano,\n",
    "        host=host_1ano,\n",
    "        port=port_1ano,\n",
    "        password=password_1ano,\n",
    "        database=database_1ano,\n",
    "    )\n",
    "    # Conecta ao banco de dados do 2º ano.\n",
    "    conn_2ano = psycopg2.connect(\n",
    "        user=user_2ano,\n",
    "        host=host_2ano,\n",
    "        port=port_2ano,\n",
    "        password=password_2ano,\n",
    "        database=database_2ano,\n",
    "    )\n",
    "\n",
    "    # Trazendo todos os registros da tabela 'tipo_arquivo' no banco do 1º ano e armazena em um DataFrame.\n",
    "    df_tipo_arquivo_1ano = pd.read_sql_query('''SELECT * FROM tipo_arquivo''', conn_1ano)\n",
    "\n",
    "    # Cria um cursor para executar comandos no banco de dados do 2º ano.\n",
    "    cursor_2ano = conn_2ano.cursor()\n",
    "\n",
    "    for i in range(len(df_tipo_arquivo_1ano)):\n",
    "        # Define os valores para a atualização da tabela 'tipo_arquivo' no banco do 2º ano (nome e id).\n",
    "        values = (df_tipo_arquivo_1ano['nome'][i], df_tipo_arquivo_1ano['id'][i])\n",
    "\n",
    "        # Query para inserir ou atualizar, utilizando ON CONFLICT para evitar duplicidade\n",
    "        upsert_query = \"\"\"\n",
    "            INSERT INTO public.tipo_arquivo (nome, id) \n",
    "            VALUES (%s, %s) \n",
    "            ON CONFLICT (id) DO UPDATE \n",
    "            SET nome = EXCLUDED.nome, id = EXCLUDED.id\n",
    "        \"\"\"\n",
    "\n",
    "        # Executando o comando de upsert\n",
    "        cursor_2ano.execute(upsert_query, values)\n",
    "\n",
    "    # Confirma as alterações no banco de dados do 2º ano.\n",
    "    conn_2ano.commit()\n",
    "\n",
    "    # Fecha as conexões com os dois bancos de dados.\n",
    "    conn_2ano.close()\n",
    "    conn_1ano.close()\n",
    "\n",
    "except Exception as e:\n",
    "    print(\"Error connecting to PostgreSQL:\", e)\n"
   ]
  },
  {
   "cell_type": "markdown",
   "metadata": {},
   "source": [
    "#### trazendo as alterações da permissao_curso"
   ]
  },
  {
   "cell_type": "code",
   "execution_count": 43,
   "metadata": {},
   "outputs": [
    {
     "name": "stderr",
     "output_type": "stream",
     "text": [
      "C:\\Users\\lucalucareli-ieg\\AppData\\Local\\Temp\\ipykernel_14728\\3262896067.py:20: UserWarning: pandas only supports SQLAlchemy connectable (engine/connection) or database string URI or sqlite3 DBAPI2 connection. Other DBAPI2 objects are not tested. Please consider using SQLAlchemy.\n",
      "  df_permissao_curso_1ano = pd.read_sql_query('''SELECT * FROM permissao_curso''', conn_1ano)\n"
     ]
    }
   ],
   "source": [
    "try:\n",
    "    # Conecta ao banco de dados do 1º ano.\n",
    "    conn_1ano = psycopg2.connect(\n",
    "        user=user_1ano,\n",
    "        host=host_1ano,\n",
    "        port=port_1ano,\n",
    "        password=password_1ano,\n",
    "        database=database_1ano,\n",
    "    )\n",
    "    # Conecta ao banco de dados do 2º ano.\n",
    "    conn_2ano = psycopg2.connect(\n",
    "        user=user_2ano,\n",
    "        host=host_2ano,\n",
    "        port=port_2ano,\n",
    "        password=password_2ano,\n",
    "        database=database_2ano,\n",
    "    )\n",
    "\n",
    "    # Trazendo todos os registros da tabela 'permissao_curso' no banco do 1º ano e armazena em um DataFrame.\n",
    "    df_permissao_curso_1ano = pd.read_sql_query('''SELECT * FROM permissao_curso''', conn_1ano)\n",
    "\n",
    "    # Cria um cursor para executar comandos no banco de dados do 2º ano.\n",
    "    cursor_2ano = conn_2ano.cursor()\n",
    "\n",
    "    for i in range(len(df_permissao_curso_1ano)):\n",
    "\n",
    "        # Define os valores para a atualização da tabela 'permissao_curso' no banco do 2º ano (permissao e id).\n",
    "        values2o = (bool(df_permissao_curso_1ano['permissao'][i]), df_permissao_curso_1ano['id'][i], df_permissao_curso_1ano['fk_curso_id'][i])\n",
    "\n",
    "        # Query para inserir ou atualizar, utilizando ON CONFLICT para evitar duplicidade\n",
    "        upsert_query = \"\"\"\n",
    "            INSERT INTO public.permissao_curso (permissao, id, fk_curso_id) \n",
    "            VALUES (%s, %s) \n",
    "            ON CONFLICT (id) DO UPDATE \n",
    "            SET permissao = EXCLUDED.permissao, fk_curso_id = EXCLUDED.fk_curso_id\n",
    "        \"\"\"\n",
    "\n",
    "        # Executando o comando de upsert\n",
    "        cursor_2ano.execute(upsert_query, values2o)\n",
    "\n",
    "    # Confirma as alterações no banco de dados do 2º ano.\n",
    "    conn_2ano.commit()\n",
    "\n",
    "    # Fecha as conexões com os dois bancos de dados.\n",
    "    conn_2ano.close()\n",
    "    conn_1ano.close()\n",
    "\n",
    "except Exception as e:\n",
    "    print(\"Error connecting to PostgreSQL:\", e)\n"
   ]
  },
  {
   "cell_type": "markdown",
   "metadata": {},
   "source": [
    "#### trazendo as alterações da permissao_vaga"
   ]
  },
  {
   "cell_type": "code",
   "execution_count": 44,
   "metadata": {},
   "outputs": [
    {
     "name": "stderr",
     "output_type": "stream",
     "text": [
      "C:\\Users\\lucalucareli-ieg\\AppData\\Local\\Temp\\ipykernel_14728\\2444626735.py:20: UserWarning: pandas only supports SQLAlchemy connectable (engine/connection) or database string URI or sqlite3 DBAPI2 connection. Other DBAPI2 objects are not tested. Please consider using SQLAlchemy.\n",
      "  df_permissao_vaga_1ano = pd.read_sql_query('''SELECT * FROM permissao_vaga''', conn_1ano)\n"
     ]
    }
   ],
   "source": [
    "try:\n",
    "    # Conecta ao banco de dados do 1º ano.\n",
    "    conn_1ano = psycopg2.connect(\n",
    "        user=user_1ano,\n",
    "        host=host_1ano,\n",
    "        port=port_1ano,\n",
    "        password=password_1ano,\n",
    "        database=database_1ano,\n",
    "    )\n",
    "    # Conecta ao banco de dados do 2º ano.\n",
    "    conn_2ano = psycopg2.connect(\n",
    "        user=user_2ano,\n",
    "        host=host_2ano,\n",
    "        port=port_2ano,\n",
    "        password=password_2ano,\n",
    "        database=database_2ano,\n",
    "    )\n",
    "\n",
    "    # Trazendo todos os registros da tabela 'permissao_vaga' no banco do 1º ano e armazena em um DataFrame.\n",
    "    df_permissao_vaga_1ano = pd.read_sql_query('''SELECT * FROM permissao_vaga''', conn_1ano)\n",
    "\n",
    "    # Cria um cursor para executar comandos no banco de dados do 2º ano.\n",
    "    cursor_2ano = conn_2ano.cursor()\n",
    "\n",
    "    for i in range(len(df_permissao_vaga_1ano)):\n",
    "        # Define os valores para a atualização da tabela 'permissao_vaga' no banco do 2º ano (nome e id).\n",
    "        values2o = (bool(df_permissao_vaga_1ano['permissao'][i]), df_permissao_vaga_1ano['id'][i], df_permissao_vaga_1ano['id_vaga'][i])\n",
    "\n",
    "        # Query para inserir ou atualizar, utilizando ON CONFLICT para evitar duplicidade\n",
    "        upsert_query = \"\"\"\n",
    "            INSERT INTO public.permissao_vaga (permissao, id, id_vaga) \n",
    "            VALUES (%s, %s, %s) \n",
    "            ON CONFLICT (id) DO UPDATE \n",
    "            SET permissao = EXCLUDED.permissao, id_vaga = EXCLUDED.id_vaga\n",
    "        \"\"\"\n",
    "        \n",
    "        # Executando o comando de upsert\n",
    "        cursor_2ano.execute(upsert_query, values2o)\n",
    "\n",
    "    # Confirma as alterações no banco de dados do 2º ano.\n",
    "    conn_2ano.commit()\n",
    "\n",
    "    # Fecha as conexões com os dois bancos de dados.\n",
    "    conn_2ano.close()\n",
    "    conn_1ano.close()\n",
    "\n",
    "except Exception as e:\n",
    "    print(\"Error connecting to PostgreSQL:\", e)\n"
   ]
  }
 ],
 "metadata": {
  "kernelspec": {
   "display_name": "Python 3",
   "language": "python",
   "name": "python3"
  },
  "language_info": {
   "codemirror_mode": {
    "name": "ipython",
    "version": 3
   },
   "file_extension": ".py",
   "mimetype": "text/x-python",
   "name": "python",
   "nbconvert_exporter": "python",
   "pygments_lexer": "ipython3",
   "version": "3.11.9"
  }
 },
 "nbformat": 4,
 "nbformat_minor": 2
}
