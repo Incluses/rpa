{
 "cells": [
  {
   "cell_type": "markdown",
   "metadata": {},
   "source": [
    "<h1><center>Análise Dados</center></h1>\n",
    "<h3><center>RPA para trazer as informações do banco do primeiro ano para o segundo</center></h3>\n",
    "\n",
    "***\n",
    "\n",
    "Banco de dados: \n",
    "* db_incluses (2 ano, postgresql e mongo)\n",
    "* db_incluses (1 ano, postgresql)\n",
    "\n",
    "Conteúdo deste notebook:\n",
    "1. Imports\n",
    "1. Trazendo valores da .env\n",
    "1. Trazendo valores do banco do primeiro para o do segundo\n",
    "    1. mongo\n",
    "        1. trazendo as alterações da situacao_trabalhista\n",
    "        1. trazendo as alterações da funcao\n",
    "    1. postgresql\n",
    "        1. trazendo as alterações do tipo_vaga\n",
    "        1. trazendo as alterações do setor\n",
    "        1. trazendo as alterações do tipo_arquivo\n",
    "        1. trazendo as alterações da permissao_curso\n",
    "        1. trazendo as alterações da permissao_vaga"
   ]
  },
  {
   "cell_type": "markdown",
   "metadata": {},
   "source": [
    "## Imports"
   ]
  },
  {
   "cell_type": "code",
   "execution_count": 1,
   "metadata": {},
   "outputs": [],
   "source": [
    "import os\n",
    "import psycopg2\n",
    "from pymongo import MongoClient\n",
    "import pandas as pd\n",
    "from dotenv import load_dotenv"
   ]
  },
  {
   "cell_type": "markdown",
   "metadata": {},
   "source": [
    "## Trazendo valores da .env"
   ]
  },
  {
   "cell_type": "code",
   "execution_count": 2,
   "metadata": {},
   "outputs": [],
   "source": [
    "# Esse comando carrega as variáveis de ambiente do arquivo .env para o ambiente Python, permitindo o uso seguro de credenciais e configurações sensíveis.\n",
    "load_dotenv()\n",
    "\n",
    "# Trando as valores para a conexão do bancoDB, partir do arquivo .env.\n",
    "host_1ano = os.getenv(\"DB_HOST_1ano\")\n",
    "port_1ano = int(os.getenv(\"DB_PORT_1ano\"))\n",
    "user_1ano = os.getenv(\"DB_USER_1ano\")\n",
    "password_1ano = os.getenv(\"DB_PASSWORD_1ano\")\n",
    "database_1ano = os.getenv(\"DB_NAME_1ano\")\n",
    "db_url_1ano = os.getenv(\"DATABASE_URL_1ano\")\n",
    "\n",
    "host_2ano = os.getenv(\"DB_HOST_2ano\")\n",
    "port_2ano = int(os.getenv(\"DB_PORT_2ano\"))\n",
    "user_2ano = os.getenv(\"DB_USER_2ano\")\n",
    "password_2ano = os.getenv(\"DB_PASSWORD_2ano\")\n",
    "database_2ano = os.getenv(\"DB_NAME_2ano\")\n",
    "db_url_2ano = os.getenv(\"DATABASE_URL_2ano\")\n",
    "\n",
    "# Conecta ao MongoDB usando a URL obtida do arquivo .env.\n",
    "conexao = MongoClient(os.getenv(\"DB_MONGO_URL\"))\n",
    "\n",
    "# Seleciona o banco de dados do MongoDB a partir do nome definido no arquivo .env.\n",
    "db_name = conexao[os.getenv(\"DB_MONGO_NAME\")]\n",
    "\n",
    "# Seleciona as collections das funcoes e situacao_trabalhista, do banco de dados MongoDB a partir do arquivo .env.\n",
    "collection_funcoes = db_name[os.getenv(\"DB_MONGO_COLLECTION_FUNCOES\")] \n",
    "collection_situacao_trabalhista = db_name[os.getenv(\"DB_MONGO_COLLECTION_SITUACAO_TRABALHISTA\")]"
   ]
  },
  {
   "cell_type": "markdown",
   "metadata": {},
   "source": [
    "## Trazendo valores do banco do primeiro para o do segundo"
   ]
  },
  {
   "cell_type": "markdown",
   "metadata": {},
   "source": [
    "### mongo"
   ]
  },
  {
   "cell_type": "markdown",
   "metadata": {},
   "source": [
    "#### trazendo as alterações da situacao_trabalhista"
   ]
  },
  {
   "cell_type": "code",
   "execution_count": 4,
   "metadata": {},
   "outputs": [
    {
     "name": "stderr",
     "output_type": "stream",
     "text": [
      "C:\\Users\\lucalucareli-ieg\\AppData\\Local\\Temp\\ipykernel_23424\\2533532828.py:17: UserWarning: pandas only supports SQLAlchemy connectable (engine/connection) or database string URI or sqlite3 DBAPI2 connection. Other DBAPI2 objects are not tested. Please consider using SQLAlchemy.\n",
      "  df_situacao_trabalhista_1ano = pd.read_sql_query('''SELECT * FROM situacao_trabalhista''', conn_1ano)\n"
     ]
    },
    {
     "data": {
      "text/html": [
       "<div>\n",
       "<style scoped>\n",
       "    .dataframe tbody tr th:only-of-type {\n",
       "        vertical-align: middle;\n",
       "    }\n",
       "\n",
       "    .dataframe tbody tr th {\n",
       "        vertical-align: top;\n",
       "    }\n",
       "\n",
       "    .dataframe thead th {\n",
       "        text-align: right;\n",
       "    }\n",
       "</style>\n",
       "<table border=\"1\" class=\"dataframe\">\n",
       "  <thead>\n",
       "    <tr style=\"text-align: right;\">\n",
       "      <th></th>\n",
       "      <th>id</th>\n",
       "      <th>nome</th>\n",
       "    </tr>\n",
       "  </thead>\n",
       "  <tbody>\n",
       "    <tr>\n",
       "      <th>0</th>\n",
       "      <td>1cb8466b-c95b-48fc-9b2e-dbb79119eee1</td>\n",
       "      <td>Desempregado</td>\n",
       "    </tr>\n",
       "    <tr>\n",
       "      <th>1</th>\n",
       "      <td>4650c3cd-e627-4f14-8941-5e25be588493</td>\n",
       "      <td>Empregado</td>\n",
       "    </tr>\n",
       "  </tbody>\n",
       "</table>\n",
       "</div>"
      ],
      "text/plain": [
       "                                     id          nome\n",
       "0  1cb8466b-c95b-48fc-9b2e-dbb79119eee1  Desempregado\n",
       "1  4650c3cd-e627-4f14-8941-5e25be588493     Empregado"
      ]
     },
     "metadata": {},
     "output_type": "display_data"
    }
   ],
   "source": [
    "try:\n",
    "    # Conecta ao banco de dados do 1º ano.\n",
    "    conn_1ano = psycopg2.connect(\n",
    "        user=user_1ano,\n",
    "        host=host_1ano,\n",
    "        port=port_1ano,\n",
    "        password=password_1ano,\n",
    "        database=database_1ano,\n",
    "    )\n",
    "\n",
    " # Trazendo todos os registros da tabela 'situacao_trabalhista' no banco do 1º ano e armazena em um DataFrame.\n",
    "    df_situacao_trabalhista_1ano = pd.read_sql_query('SELECT * FROM situacao_trabalhista', conn_1ano)\n",
    "\n",
    "    for index, row in df_situacao_trabalhista_1ano.iterrows():\n",
    "        # Cria um filtro para buscar o documento correspondente ao 'id'.\n",
    "        filtro = {\"id\": row['id']}  \n",
    "\n",
    "        # Verifica se já existe um documento com o mesmo 'id'.\n",
    "        if collection_funcoes.count_documents(filtro) > 0:\n",
    "            # Se o documento existir, atualiza o campo 'nome' no MongoDB.\n",
    "            collection_funcoes.update_one(filtro, {\"$set\": {\"nome\": row['nome']}})\n",
    "        else:\n",
    "            # Se o documento não existir, cria um novo documento com os campos 'id' e 'nome' e insere.\n",
    "            situacao_trabalhista = {\n",
    "                \"id\": row['id'],\n",
    "                \"nome\": row['nome']\n",
    "            }\n",
    "            collection_situacao_trabalhista.insert_one(situacao_trabalhista)\n",
    "\n",
    "    # Fecha a conexão com o banco de dados do 1º ano.\n",
    "    conn_1ano.close()\n",
    "\n",
    "except Exception as e:\n",
    "    print(\"Erro ao conectar ao PostgreSQL:\", e)\n"
   ]
  },
  {
   "cell_type": "markdown",
   "metadata": {},
   "source": [
    "#### trazendo as alterações da funcao"
   ]
  },
  {
   "cell_type": "code",
   "execution_count": 10,
   "metadata": {},
   "outputs": [
    {
     "name": "stdout",
     "output_type": "stream",
     "text": [
      "Erro ao conectar ao PostgreSQL: Execution failed on sql 'SELECT * FROM funcao': relation \"funcao\" does not exist\n",
      "LINE 1: SELECT * FROM funcao\n",
      "                      ^\n",
      "\n"
     ]
    },
    {
     "name": "stderr",
     "output_type": "stream",
     "text": [
      "C:\\Users\\lucalucareli-ieg\\AppData\\Local\\Temp\\ipykernel_23424\\3251264320.py:11: UserWarning: pandas only supports SQLAlchemy connectable (engine/connection) or database string URI or sqlite3 DBAPI2 connection. Other DBAPI2 objects are not tested. Please consider using SQLAlchemy.\n",
      "  df_funcao_1ano = pd.read_sql_query('SELECT * FROM funcao', conn_1ano)\n"
     ]
    }
   ],
   "source": [
    "try:\n",
    "    # Conecta ao banco de dados do 1º ano.\n",
    "    conn_1ano = psycopg2.connect(\n",
    "        user=user_1ano,\n",
    "        host=host_1ano,\n",
    "        port=port_1ano,\n",
    "        password=password_1ano,\n",
    "        database=database_1ano,\n",
    "    )\n",
    "\n",
    " # Trazendo todos os registros da tabela 'funcao' no banco do 1º ano e armazena em um DataFrame.\n",
    "    df_funcao_1ano = pd.read_sql_query('SELECT * FROM funcao', conn_1ano)\n",
    "\n",
    "    for index, row in df_funcao_1ano.iterrows():\n",
    "        # Cria um filtro para buscar o documento correspondente ao 'id'.\n",
    "        filtro = {\"id\": row['id']}  \n",
    "\n",
    "        # Verifica se já existe um documento com o mesmo 'id'.\n",
    "        if collection_funcoes.count_documents(filtro) > 0:\n",
    "            # Se o documento existir, atualiza o campo 'nome' no MongoDB.\n",
    "            collection_funcoes.update_one(filtro, {\"$set\": {\"nome\": row['nome']}})\n",
    "        else:\n",
    "            # Se o documento não existir, cria um novo documento com os campos 'id' e 'nome' e insere.\n",
    "            funcao = {\n",
    "                \"id\": row['id'],\n",
    "                \"nome\": row['nome']\n",
    "            }\n",
    "            collection_funcoes.insert_one(funcao)\n",
    "\n",
    "    # Fecha a conexão com o banco de dados do 1º ano.\n",
    "    conn_1ano.close()\n",
    "\n",
    "except Exception as e:\n",
    "    print(\"Erro ao conectar ao PostgreSQL:\", e)\n"
   ]
  },
  {
   "cell_type": "markdown",
   "metadata": {},
   "source": [
    "## postgresql"
   ]
  },
  {
   "cell_type": "markdown",
   "metadata": {},
   "source": [
    "#### trazendo as alterações do tipo_vaga"
   ]
  },
  {
   "cell_type": "code",
   "execution_count": 3,
   "metadata": {},
   "outputs": [
    {
     "name": "stdout",
     "output_type": "stream",
     "text": [
      "Feito!!\n"
     ]
    },
    {
     "name": "stderr",
     "output_type": "stream",
     "text": [
      "C:\\Users\\lucalucareli-ieg\\AppData\\Local\\Temp\\ipykernel_23424\\3271453832.py:17: UserWarning: pandas only supports SQLAlchemy connectable (engine/connection) or database string URI or sqlite3 DBAPI2 connection. Other DBAPI2 objects are not tested. Please consider using SQLAlchemy.\n",
      "  df_tipo_vaga_1ano = pd.read_sql_query('''SELECT * FROM tipo_vaga''', conn_1ano)\n"
     ]
    }
   ],
   "source": [
    "try:\n",
    "    # Conecta ao banco de dados do 1º ano.\n",
    "    conn_1ano = psycopg2.connect(\n",
    "        user=user_1ano,\n",
    "        host=host_1ano,\n",
    "        port=port_1ano,\n",
    "        password=password_1ano,\n",
    "        database=database_1ano,\n",
    "    )\n",
    "    # Conecta ao banco de dados do 2º ano.\n",
    "    conn_2ano = psycopg2.connect(\n",
    "        user=user_2ano,\n",
    "        host=host_2ano,\n",
    "        port=port_2ano,\n",
    "        password=password_2ano,\n",
    "        database=database_2ano,\n",
    "    )\n",
    "\n",
    "    # Trazendo todos os registros da tabela 'tipo_vaga' no banco do 1º ano e armazena em um DataFrame.\n",
    "    df_tipo_vaga_1ano = pd.read_sql_query('''SELECT * FROM tipo_vaga''', conn_1ano)\n",
    "\n",
    "    # Cria um cursor para executar comandos no banco de dados do 2º ano.\n",
    "    cursor_2ano = conn_2ano.cursor()\n",
    "\n",
    "    for i in range(len(df_tipo_vaga_1ano)):\n",
    "        # Define os valores para a atualização da tabela 'tipo_vaga' no banco do 2º ano (nome e id).\n",
    "        values = (df_tipo_vaga_1ano['nome'][i], df_tipo_vaga_1ano['id'][i])\n",
    "\n",
    "        # Prepara e executa a query de atualização no banco de dados do 2º ano, atualizando o nome baseado no id.\n",
    "        update_query = \"\"\"UPDATE public.tipo_vaga\n",
    "                          SET nome = %s\n",
    "                          WHERE id = %s;\"\"\"\n",
    "        cursor_2ano.execute(update_query, values)\n",
    "\n",
    "        # Se não tiver atualização, insere um novo registro com id e permissão.\n",
    "        if cursor_2ano.rowcount == 0:  \n",
    "            insert_query = \"\"\"INSERT INTO public.tipo_vaga (id, nome)\n",
    "                              VALUES (%s, %s);\"\"\"\n",
    "            cursor_2ano.execute(insert_query, (df_tipo_vaga_1ano['id'][i], df_tipo_vaga_1ano['nome'][i]))\n",
    "\n",
    "    # Confirma as alterações no banco de dados do 2º ano.\n",
    "    conn_2ano.commit()\n",
    "\n",
    "    # Fecha as conexões com os dois bancos de dados.\n",
    "    conn_2ano.close()\n",
    "    conn_1ano.close()\n",
    "\n",
    "except Exception as e:\n",
    "    print(\"Error connecting to PostgreSQL:\", e)\n"
   ]
  },
  {
   "cell_type": "markdown",
   "metadata": {},
   "source": [
    "#### trazendo as alterações do setor"
   ]
  },
  {
   "cell_type": "code",
   "execution_count": 5,
   "metadata": {},
   "outputs": [
    {
     "name": "stderr",
     "output_type": "stream",
     "text": [
      "C:\\Users\\lucalucareli-ieg\\AppData\\Local\\Temp\\ipykernel_23424\\1848779197.py:17: UserWarning: pandas only supports SQLAlchemy connectable (engine/connection) or database string URI or sqlite3 DBAPI2 connection. Other DBAPI2 objects are not tested. Please consider using SQLAlchemy.\n",
      "  df_setor_1ano = pd.read_sql_query('''SELECT * FROM setor''', conn_1ano)\n"
     ]
    },
    {
     "data": {
      "text/html": [
       "<div>\n",
       "<style scoped>\n",
       "    .dataframe tbody tr th:only-of-type {\n",
       "        vertical-align: middle;\n",
       "    }\n",
       "\n",
       "    .dataframe tbody tr th {\n",
       "        vertical-align: top;\n",
       "    }\n",
       "\n",
       "    .dataframe thead th {\n",
       "        text-align: right;\n",
       "    }\n",
       "</style>\n",
       "<table border=\"1\" class=\"dataframe\">\n",
       "  <thead>\n",
       "    <tr style=\"text-align: right;\">\n",
       "      <th></th>\n",
       "      <th>id</th>\n",
       "      <th>nome</th>\n",
       "    </tr>\n",
       "  </thead>\n",
       "  <tbody>\n",
       "    <tr>\n",
       "      <th>0</th>\n",
       "      <td>e47efe54-c1cc-4efc-bb40-6c9313c18848</td>\n",
       "      <td>Tecnologia</td>\n",
       "    </tr>\n",
       "    <tr>\n",
       "      <th>1</th>\n",
       "      <td>a23748a8-6365-4301-a02a-7a082020fc31</td>\n",
       "      <td>Recursos Humanos</td>\n",
       "    </tr>\n",
       "    <tr>\n",
       "      <th>2</th>\n",
       "      <td>013ab9c1-16cc-488e-b411-23e45328dcc3</td>\n",
       "      <td>Financeiro</td>\n",
       "    </tr>\n",
       "  </tbody>\n",
       "</table>\n",
       "</div>"
      ],
      "text/plain": [
       "                                     id              nome\n",
       "0  e47efe54-c1cc-4efc-bb40-6c9313c18848        Tecnologia\n",
       "1  a23748a8-6365-4301-a02a-7a082020fc31  Recursos Humanos\n",
       "2  013ab9c1-16cc-488e-b411-23e45328dcc3        Financeiro"
      ]
     },
     "metadata": {},
     "output_type": "display_data"
    }
   ],
   "source": [
    "try:\n",
    "    # Conecta ao banco de dados do 1º ano.\n",
    "    conn_1ano = psycopg2.connect(\n",
    "        user=user_1ano,\n",
    "        host=host_1ano,\n",
    "        port=port_1ano,\n",
    "        password=password_1ano,\n",
    "        database=database_1ano,\n",
    "    )\n",
    "    # Conecta ao banco de dados do 2º ano.\n",
    "    conn_2ano = psycopg2.connect(\n",
    "        user=user_2ano,\n",
    "        host=host_2ano,\n",
    "        port=port_2ano,\n",
    "        password=password_2ano,\n",
    "        database=database_2ano,\n",
    "    )\n",
    "\n",
    "    # Trazendo todos os registros da tabela 'setor' no banco do 1º ano e armazena em um DataFrame.\n",
    "    df_setor_1ano = pd.read_sql_query('''SELECT * FROM setor''', conn_1ano)\n",
    "\n",
    "    # Cria um cursor para executar comandos no banco de dados do 2º ano.\n",
    "    cursor_2ano = conn_2ano.cursor()\n",
    "\n",
    "    for i in range(len(df_setor_1ano)):\n",
    "        # Define os valores para a atualização da tabela 'setor' no banco do 2º ano (nome e id).\n",
    "        values = (df_setor_1ano['nome'][i], df_setor_1ano['id'][i])\n",
    "\n",
    "        # Prepara e executa a query de atualização no banco de dados do 2º ano, atualizando o nome baseado no id.\n",
    "        update_query = \"\"\"UPDATE public.setor\n",
    "                          SET nome = %s\n",
    "                          WHERE id = %s;\"\"\"\n",
    "        cursor_2ano.execute(update_query, values)\n",
    "\n",
    "        # Se não tiver atualização, insere um novo registro com id e permissão.\n",
    "        if cursor_2ano.rowcount == 0:  \n",
    "            insert_query = \"\"\"INSERT INTO public.setor (id, nome)\n",
    "                              VALUES (%s, %s);\"\"\"\n",
    "            cursor_2ano.execute(insert_query, (df_setor_1ano['id'][i], df_setor_1ano['nome'][i]))\n",
    "\n",
    "    # Confirma as alterações no banco de dados do 2º ano.\n",
    "    conn_2ano.commit()\n",
    "\n",
    "    # Fecha as conexões com os dois bancos de dados.\n",
    "    conn_2ano.close()\n",
    "    conn_1ano.close()\n",
    "\n",
    "except Exception as e:\n",
    "    print(\"Error connecting to PostgreSQL:\", e)"
   ]
  },
  {
   "cell_type": "markdown",
   "metadata": {},
   "source": [
    "#### trazendo as alterações do tipo_arquivo"
   ]
  },
  {
   "cell_type": "code",
   "execution_count": 6,
   "metadata": {},
   "outputs": [
    {
     "name": "stderr",
     "output_type": "stream",
     "text": [
      "C:\\Users\\lucalucareli-ieg\\AppData\\Local\\Temp\\ipykernel_23424\\1758135547.py:17: UserWarning: pandas only supports SQLAlchemy connectable (engine/connection) or database string URI or sqlite3 DBAPI2 connection. Other DBAPI2 objects are not tested. Please consider using SQLAlchemy.\n",
      "  df_tipo_arquivo_1ano = pd.read_sql_query('''SELECT * FROM tipo_arquivo''', conn_1ano)\n"
     ]
    },
    {
     "data": {
      "text/html": [
       "<div>\n",
       "<style scoped>\n",
       "    .dataframe tbody tr th:only-of-type {\n",
       "        vertical-align: middle;\n",
       "    }\n",
       "\n",
       "    .dataframe tbody tr th {\n",
       "        vertical-align: top;\n",
       "    }\n",
       "\n",
       "    .dataframe thead th {\n",
       "        text-align: right;\n",
       "    }\n",
       "</style>\n",
       "<table border=\"1\" class=\"dataframe\">\n",
       "  <thead>\n",
       "    <tr style=\"text-align: right;\">\n",
       "      <th></th>\n",
       "      <th>id</th>\n",
       "      <th>nome</th>\n",
       "    </tr>\n",
       "  </thead>\n",
       "  <tbody>\n",
       "    <tr>\n",
       "      <th>0</th>\n",
       "      <td>eb2437b2-301c-49ad-b42e-194ec5391356</td>\n",
       "      <td>Currículo</td>\n",
       "    </tr>\n",
       "    <tr>\n",
       "      <th>1</th>\n",
       "      <td>23d81667-ee41-45e4-9ffe-b8e1cc04366b</td>\n",
       "      <td>Certificado</td>\n",
       "    </tr>\n",
       "    <tr>\n",
       "      <th>2</th>\n",
       "      <td>32fa7c71-b16f-4151-9d3f-790a02e491f8</td>\n",
       "      <td>Outros</td>\n",
       "    </tr>\n",
       "  </tbody>\n",
       "</table>\n",
       "</div>"
      ],
      "text/plain": [
       "                                     id         nome\n",
       "0  eb2437b2-301c-49ad-b42e-194ec5391356    Currículo\n",
       "1  23d81667-ee41-45e4-9ffe-b8e1cc04366b  Certificado\n",
       "2  32fa7c71-b16f-4151-9d3f-790a02e491f8       Outros"
      ]
     },
     "metadata": {},
     "output_type": "display_data"
    }
   ],
   "source": [
    "try:\n",
    "    # Conecta ao banco de dados do 1º ano.\n",
    "    conn_1ano = psycopg2.connect(\n",
    "        user=user_1ano,\n",
    "        host=host_1ano,\n",
    "        port=port_1ano,\n",
    "        password=password_1ano,\n",
    "        database=database_1ano,\n",
    "    )\n",
    "    # Conecta ao banco de dados do 2º ano.\n",
    "    conn_2ano = psycopg2.connect(\n",
    "        user=user_2ano,\n",
    "        host=host_2ano,\n",
    "        port=port_2ano,\n",
    "        password=password_2ano,\n",
    "        database=database_2ano,\n",
    "    )\n",
    "\n",
    "    # Trazendo todos os registros da tabela 'tipo_arquivo' no banco do 1º ano e armazena em um DataFrame.\n",
    "    df_tipo_arquivo_1ano = pd.read_sql_query('''SELECT * FROM tipo_arquivo''', conn_1ano)\n",
    "\n",
    "    # Cria um cursor para executar comandos no banco de dados do 2º ano.\n",
    "    cursor_2ano = conn_2ano.cursor()\n",
    "\n",
    "    for i in range(len(df_tipo_arquivo_1ano)):\n",
    "        # Define os valores para a atualização da tabela 'tipo_arquivo' no banco do 2º ano (nome e id).\n",
    "        values = (df_tipo_arquivo_1ano['nome'][i], df_tipo_arquivo_1ano['id'][i])\n",
    "\n",
    "        # Prepara e executa a query de atualização no banco de dados do 2º ano, atualizando o nome baseado no id.\n",
    "        update_query = \"\"\"UPDATE public.tipo_arquivo\n",
    "                          SET nome = %s\n",
    "                          WHERE id = %s;\"\"\"\n",
    "        cursor_2ano.execute(update_query, values)\n",
    "\n",
    "        # Se não tiver atualização, insere um novo registro com id e permissão.\n",
    "        if cursor_2ano.rowcount == 0:  \n",
    "            insert_query = \"\"\"INSERT INTO public.tipo_arquivo (id, nome)\n",
    "                              VALUES (%s, %s);\"\"\"\n",
    "            cursor_2ano.execute(insert_query, (df_tipo_arquivo_1ano['id'][i], df_tipo_arquivo_1ano['nome'][i]))\n",
    "\n",
    "    # Confirma as alterações no banco de dados do 2º ano.\n",
    "    conn_2ano.commit()\n",
    "\n",
    "    # Fecha as conexões com os dois bancos de dados.\n",
    "    conn_2ano.close()\n",
    "    conn_1ano.close()\n",
    "\n",
    "except Exception as e:\n",
    "    print(\"Error connecting to PostgreSQL:\", e)\n"
   ]
  },
  {
   "cell_type": "markdown",
   "metadata": {},
   "source": [
    "#### trazendo as alterações da permissao_curso"
   ]
  },
  {
   "cell_type": "code",
   "execution_count": 7,
   "metadata": {},
   "outputs": [
    {
     "name": "stderr",
     "output_type": "stream",
     "text": [
      "C:\\Users\\lucalucareli-ieg\\AppData\\Local\\Temp\\ipykernel_23424\\3979219545.py:17: UserWarning: pandas only supports SQLAlchemy connectable (engine/connection) or database string URI or sqlite3 DBAPI2 connection. Other DBAPI2 objects are not tested. Please consider using SQLAlchemy.\n",
      "  df_permissao_curso_1ano = pd.read_sql_query('''SELECT * FROM permissao_curso''', conn_1ano)\n"
     ]
    },
    {
     "data": {
      "text/html": [
       "<div>\n",
       "<style scoped>\n",
       "    .dataframe tbody tr th:only-of-type {\n",
       "        vertical-align: middle;\n",
       "    }\n",
       "\n",
       "    .dataframe tbody tr th {\n",
       "        vertical-align: top;\n",
       "    }\n",
       "\n",
       "    .dataframe thead th {\n",
       "        text-align: right;\n",
       "    }\n",
       "</style>\n",
       "<table border=\"1\" class=\"dataframe\">\n",
       "  <thead>\n",
       "    <tr style=\"text-align: right;\">\n",
       "      <th></th>\n",
       "      <th>id</th>\n",
       "      <th>permissao</th>\n",
       "      <th>fk_curso_id</th>\n",
       "    </tr>\n",
       "  </thead>\n",
       "  <tbody>\n",
       "  </tbody>\n",
       "</table>\n",
       "</div>"
      ],
      "text/plain": [
       "Empty DataFrame\n",
       "Columns: [id, permissao, fk_curso_id]\n",
       "Index: []"
      ]
     },
     "metadata": {},
     "output_type": "display_data"
    }
   ],
   "source": [
    "try:\n",
    "    # Conecta ao banco de dados do 1º ano.\n",
    "    conn_1ano = psycopg2.connect(\n",
    "        user=user_1ano,\n",
    "        host=host_1ano,\n",
    "        port=port_1ano,\n",
    "        password=password_1ano,\n",
    "        database=database_1ano,\n",
    "    )\n",
    "    # Conecta ao banco de dados do 2º ano.\n",
    "    conn_2ano = psycopg2.connect(\n",
    "        user=user_2ano,\n",
    "        host=host_2ano,\n",
    "        port=port_2ano,\n",
    "        password=password_2ano,s\n",
    "        database=database_2ano,\n",
    "    )\n",
    "\n",
    "    # Trazendo todos os registros da tabela 'permissao_curso' no banco do 1º ano e armazena em um DataFrame.\n",
    "    df_permissao_curso_1ano = pd.read_sql_query('''SELECT * FROM permissao_curso''', conn_1ano)\n",
    "\n",
    "    # Cria um cursor para executar comandos no banco de dados do 2º ano.\n",
    "    cursor_2ano = conn_2ano.cursor()\n",
    "\n",
    "    for i in range(len(df_permissao_curso_1ano)):\n",
    "        # Define os valores para a atualização da tabela 'permissao_curso' no banco do 2º ano (nome e id).\n",
    "        values = (df_permissao_curso_1ano['nome'][i], df_permissao_curso_1ano['id'][i])\n",
    "\n",
    "        # Prepara e executa a query de atualização no banco de dados do 2º ano, atualizando o nome baseado no id.\n",
    "        update_query = \"\"\"UPDATE public.permissao_curso\n",
    "                          SET permissao = %s\n",
    "                          WHERE id = %s;\"\"\"\n",
    "        cursor_2ano.execute(update_query, values)\n",
    "\n",
    "        # Se não tiver atualização, insere um novo registro com id e permissão.\n",
    "        if cursor_2ano.rowcount == 0:  \n",
    "            insert_query = \"\"\"INSERT INTO public.permissao_curso (id, permissao)\n",
    "                              VALUES (%s, %s);\"\"\"\n",
    "            cursor_2ano.execute(insert_query, (df_permissao_curso_1ano['id'][i], df_permissao_curso_1ano['permissao'][i]))\n",
    "\n",
    "    # Confirma as alterações no banco de dados do 2º ano.\n",
    "    conn_2ano.commit()\n",
    "\n",
    "    # Fecha as conexões com os dois bancos de dados.\n",
    "    conn_2ano.close()\n",
    "    conn_1ano.close()\n",
    "\n",
    "except Exception as e:\n",
    "    print(\"Error connecting to PostgreSQL:\", e)\n"
   ]
  },
  {
   "cell_type": "markdown",
   "metadata": {},
   "source": [
    "#### trazendo as alterações da permissao_vaga"
   ]
  },
  {
   "cell_type": "code",
   "execution_count": 8,
   "metadata": {},
   "outputs": [
    {
     "name": "stderr",
     "output_type": "stream",
     "text": [
      "C:\\Users\\lucalucareli-ieg\\AppData\\Local\\Temp\\ipykernel_23424\\2340054217.py:17: UserWarning: pandas only supports SQLAlchemy connectable (engine/connection) or database string URI or sqlite3 DBAPI2 connection. Other DBAPI2 objects are not tested. Please consider using SQLAlchemy.\n",
      "  df_permissao_vaga_1ano = pd.read_sql_query('''SELECT * FROM permissao_vaga''', conn_1ano)\n"
     ]
    },
    {
     "data": {
      "text/html": [
       "<div>\n",
       "<style scoped>\n",
       "    .dataframe tbody tr th:only-of-type {\n",
       "        vertical-align: middle;\n",
       "    }\n",
       "\n",
       "    .dataframe tbody tr th {\n",
       "        vertical-align: top;\n",
       "    }\n",
       "\n",
       "    .dataframe thead th {\n",
       "        text-align: right;\n",
       "    }\n",
       "</style>\n",
       "<table border=\"1\" class=\"dataframe\">\n",
       "  <thead>\n",
       "    <tr style=\"text-align: right;\">\n",
       "      <th></th>\n",
       "      <th>id</th>\n",
       "      <th>permissao</th>\n",
       "      <th>id_vaga</th>\n",
       "    </tr>\n",
       "  </thead>\n",
       "  <tbody>\n",
       "  </tbody>\n",
       "</table>\n",
       "</div>"
      ],
      "text/plain": [
       "Empty DataFrame\n",
       "Columns: [id, permissao, id_vaga]\n",
       "Index: []"
      ]
     },
     "metadata": {},
     "output_type": "display_data"
    }
   ],
   "source": [
    "try:\n",
    "    # Conecta ao banco de dados do 1º ano.\n",
    "    conn_1ano = psycopg2.connect(\n",
    "        user=user_1ano,\n",
    "        host=host_1ano,\n",
    "        port=port_1ano,\n",
    "        password=password_1ano,\n",
    "        database=database_1ano,\n",
    "    )\n",
    "    # Conecta ao banco de dados do 2º ano.\n",
    "    conn_2ano = psycopg2.connect(\n",
    "        user=user_2ano,\n",
    "        host=host_2ano,\n",
    "        port=port_2ano,\n",
    "        password=password_2ano,\n",
    "        database=database_2ano,\n",
    "    )\n",
    "\n",
    "    # Trazendo todos os registros da tabela 'permissao_vaga' no banco do 1º ano e armazena em um DataFrame.\n",
    "    df_permissao_vaga_1ano = pd.read_sql_query('''SELECT * FROM permissao_vaga''', conn_1ano)\n",
    "\n",
    "    # Cria um cursor para executar comandos no banco de dados do 2º ano.\n",
    "    cursor_2ano = conn_2ano.cursor()\n",
    "\n",
    "    for i in range(len(df_permissao_vaga_1ano)):\n",
    "        # Define os valores para a atualização da tabela 'permissao_vaga' no banco do 2º ano (nome e id).\n",
    "        values = (df_permissao_vaga_1ano['nome'][i], df_permissao_vaga_1ano['id'][i])\n",
    "\n",
    "        # Prepara e executa a query de atualização no banco de dados do 2º ano, atualizando o nome baseado no id.\n",
    "        update_query = \"\"\"UPDATE public.permissao_vaga\n",
    "                          SET permissao = %s\n",
    "                          WHERE id = %s;\"\"\"\n",
    "        cursor_2ano.execute(update_query, values)\n",
    "\n",
    "        # Se não tiver atualização, insere um novo registro com id e permissão.\n",
    "        if cursor_2ano.rowcount == 0:  \n",
    "            insert_query = \"\"\"INSERT INTO public.permissao_vaga (id, permissao)\n",
    "                              VALUES (%s, %s);\"\"\"\n",
    "            cursor_2ano.execute(insert_query, (df_permissao_vaga_1ano['id'][i], df_permissao_vaga_1ano['permissao'][i]))\n",
    "\n",
    "    # Confirma as alterações no banco de dados do 2º ano.\n",
    "    conn_2ano.commit()\n",
    "\n",
    "    # Fecha as conexões com os dois bancos de dados.\n",
    "    conn_2ano.close()\n",
    "    conn_1ano.close()\n",
    "\n",
    "except Exception as e:\n",
    "    print(\"Error connecting to PostgreSQL:\", e)\n"
   ]
  },
  {
   "cell_type": "markdown",
   "metadata": {},
   "source": [
    "## funcao"
   ]
  },
  {
   "cell_type": "code",
   "execution_count": 10,
   "metadata": {},
   "outputs": [
    {
     "name": "stdout",
     "output_type": "stream",
     "text": [
      "Erro ao conectar ao PostgreSQL: Execution failed on sql 'SELECT * FROM funcao': relation \"funcao\" does not exist\n",
      "LINE 1: SELECT * FROM funcao\n",
      "                      ^\n",
      "\n"
     ]
    },
    {
     "name": "stderr",
     "output_type": "stream",
     "text": [
      "C:\\Users\\lucalucareli-ieg\\AppData\\Local\\Temp\\ipykernel_23424\\3251264320.py:11: UserWarning: pandas only supports SQLAlchemy connectable (engine/connection) or database string URI or sqlite3 DBAPI2 connection. Other DBAPI2 objects are not tested. Please consider using SQLAlchemy.\n",
      "  df_funcao_1ano = pd.read_sql_query('SELECT * FROM funcao', conn_1ano)\n"
     ]
    }
   ],
   "source": [
    "try:\n",
    "    conn_1ano = psycopg2.connect(\n",
    "        user=user_1ano,\n",
    "        host=host_1ano,\n",
    "        port=port_1ano,\n",
    "        password=password_1ano,\n",
    "        database=database_1ano,\n",
    "    )\n",
    "\n",
    "    df_funcao_1ano = pd.read_sql_query('SELECT * FROM funcao', conn_1ano)\n",
    "\n",
    "    display(df_funcao_1ano)\n",
    "\n",
    "    for index, row in df_funcao_1ano.iterrows():\n",
    "        filtro = {\"id\": row['id']}  \n",
    "\n",
    "        if collection_funcoes.count_documents(filtro) > 0:\n",
    "\n",
    "            collection_funcoes.update_one(filtro, {\"$set\": {\"nome\": row['nome']}})\n",
    "        else:\n",
    "            funcao = {\n",
    "                \"id\": row['id'],\n",
    "                \"nome\": row['nome']\n",
    "            }\n",
    "            collection_funcoes.insert_one(funcao)\n",
    "\n",
    "    conn_1ano.close()\n",
    "\n",
    "except Exception as e:\n",
    "    print(\"Erro ao conectar ao PostgreSQL:\", e)"
   ]
  }
 ],
 "metadata": {
  "kernelspec": {
   "display_name": "Python 3",
   "language": "python",
   "name": "python3"
  },
  "language_info": {
   "codemirror_mode": {
    "name": "ipython",
    "version": 3
   },
   "file_extension": ".py",
   "mimetype": "text/x-python",
   "name": "python",
   "nbconvert_exporter": "python",
   "pygments_lexer": "ipython3",
   "version": "3.12.5"
  }
 },
 "nbformat": 4,
 "nbformat_minor": 2
}
