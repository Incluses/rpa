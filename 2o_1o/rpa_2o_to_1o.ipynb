{
 "cells": [
  {
   "cell_type": "markdown",
   "metadata": {},
   "source": [
    "# RPA trazer informações do banco do 2o para o banco do 1o"
   ]
  },
  {
   "cell_type": "code",
   "execution_count": null,
   "metadata": {},
   "outputs": [],
   "source": [
    "import os\n",
    "import psycopg2\n",
    "from pymongo import MongoClient\n",
    "import pandas as pd\n",
    "from dotenv import load_dotenv"
   ]
  },
  {
   "cell_type": "code",
   "execution_count": null,
   "metadata": {},
   "outputs": [],
   "source": [
    "load_dotenv()\n",
    "\n",
    "host_1ano = os.getenv(\"DB_HOST_1ano\")\n",
    "port_1ano = int(os.getenv(\"DB_PORT_1ano\"))\n",
    "user_1ano = os.getenv(\"DB_USER_1ano\")\n",
    "password_1ano = os.getenv(\"DB_PASSWORD_1ano\")\n",
    "database_1ano = os.getenv(\"DB_NAME_1ano\")\n",
    "db_url_1ano = os.getenv(\"DATABASE_URL_1ano\")\n",
    "\n",
    "host_2ano = os.getenv(\"DB_HOST_2ano\")\n",
    "port_2ano = int(os.getenv(\"DB_PORT_2ano\"))\n",
    "user_2ano = os.getenv(\"DB_USER_2ano\")\n",
    "password_2ano = os.getenv(\"DB_PASSWORD_2ano\")\n",
    "database_2ano = os.getenv(\"DB_NAME_2ano\")\n",
    "db_url_2ano = os.getenv(\"DATABASE_URL_2ano\")\n",
    "\n",
    "\n",
    "conexao = MongoClient(os.getenv(\"DB_MONGO_URL\"))\n",
    "db_name = conexao[os.getenv(\"DB_MONGO_NAME\")]\n",
    "collection_funcoes = db_name[os.getenv(\"DB_MONGO_COLLECTION_FUNCOES\")] \n",
    "collection_situacao_trabalhista = db_name[os.getenv(\"DB_MONGO_COLLECTION_SITUACAO_TRABALHISTA\")]"
   ]
  },
  {
   "cell_type": "markdown",
   "metadata": {},
   "source": [
    "## tipo_vaga"
   ]
  },
  {
   "cell_type": "code",
   "execution_count": null,
   "metadata": {},
   "outputs": [],
   "source": [
    "try:\n",
    "\n",
    "    # conectando-se ao banco do 1ano\n",
    "    conn_bd1 = psycopg2.connect(\n",
    "        user=user_1ano,\n",
    "        host=host_1ano,\n",
    "        port=port_1ano,\n",
    "        password=password_1ano,\n",
    "        database=database_1ano,\n",
    "    )\n",
    "\n",
    "    # conectando-se ao banco do 2ano\n",
    "    conn_bd2 = psycopg2.connect(\n",
    "        user=user_2ano,\n",
    "        host=host_2ano,\n",
    "        port=port_2ano,\n",
    "        password=password_2ano,\n",
    "        database=database_2ano,\n",
    "    )\n",
    "\n",
    "    # Lendo os valores da tabela tip_vaga do 2ano\n",
    "    df_tipo_vaga_bd2 = pd.read_sql_query(\"SELECT * FROM tipo_vaga;\", conn_bd2)\n",
    "\n",
    "    # Criando um cursor para poder fazer queries no banco do 1ano\n",
    "    cursor_bd1 = conn_bd1.cursor()\n",
    "\n",
    "    for i in range(len(df_tipo_vaga_bd2)):\n",
    "        # Lendo os valores de cada linha do dataframe que contém as informações da tabela tipo_vaga do 2ano\n",
    "        values = (df_tipo_vaga_bd2['id'][i], df_tipo_vaga_bd2['nome'][i])\n",
    "\n",
    "        # Query para atualizar a tabela do 1o com as informações do 2o\n",
    "        update_query = \"UPDATE public.tipo_vaga SET nome = %s WHERE id = %s;\"\n",
    "        \n",
    "        try:\n",
    "            # Executando a query\n",
    "            cursor_bd1.execute(update_query, values)\n",
    "\n",
    "            # Se a query de atualização não tiver nenhuma linha alterada, então significa que os valores na tabela do 2o são novos\n",
    "            if cursor_bd1.rowcount == 0:\n",
    "                # query para inserir\n",
    "                insert_query = \"INSERT INTO public.tipo_vaga(id, nome) VALUES (%s, %s);\"\n",
    "                # executando a query de insert\n",
    "                cursor_bd1.execute(insert_query, values)\n",
    "\n",
    "            conn_bd2.commit()\n",
    "\n",
    "            conn_bd2.close()\n",
    "            conn_bd1.close()\n",
    "\n",
    "        except Exception as e:\n",
    "            print(f\"Erro ao executar a query para id {values[0]}: {e}\")\n",
    "\n",
    "except Exception as e:\n",
    "    print(\"Error connecting to PostgreSQL:\", e)\n",
    "\n"
   ]
  }
 ],
 "metadata": {
  "language_info": {
   "name": "python"
  }
 },
 "nbformat": 4,
 "nbformat_minor": 2
}
