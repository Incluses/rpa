{
 "cells": [
  {
   "cell_type": "markdown",
   "metadata": {},
   "source": [
    "# RPA trazer informações do banco do 2o para o banco do 1o"
   ]
  },
  {
   "cell_type": "code",
   "execution_count": 2,
   "metadata": {},
   "outputs": [
    {
     "name": "stderr",
     "output_type": "stream",
     "text": [
      "C:\\Users\\oliviadomingues-ieg\\AppData\\Local\\Temp\\ipykernel_13364\\4197665263.py:4: DeprecationWarning: \n",
      "Pyarrow will become a required dependency of pandas in the next major release of pandas (pandas 3.0),\n",
      "(to allow more performant data types, such as the Arrow string type, and better interoperability with other libraries)\n",
      "but was not found to be installed on your system.\n",
      "If this would cause problems for you,\n",
      "please provide us feedback at https://github.com/pandas-dev/pandas/issues/54466\n",
      "        \n",
      "  import pandas as pd\n"
     ]
    }
   ],
   "source": [
    "import os\n",
    "import psycopg2\n",
    "# from pymongo import MongoClient\n",
    "import pandas as pd\n",
    "from dotenv import load_dotenv\n",
    "# import pymongo\n",
    "# from sqlalchemy import create_engine"
   ]
  },
  {
   "cell_type": "code",
   "execution_count": 7,
   "metadata": {},
   "outputs": [
    {
     "name": "stdout",
     "output_type": "stream",
     "text": [
      "db_incluses_2o\n",
      "db_incluses_1o\n"
     ]
    }
   ],
   "source": [
    "load_dotenv()\n",
    "\n",
    "host_1ano = os.getenv(\"DB_HOST_1ano\")\n",
    "port_1ano = int(os.getenv(\"DB_PORT_1ano\"))\n",
    "user_1ano = os.getenv(\"DB_USER_1ano\")\n",
    "password_1ano = os.getenv(\"DB_PASSWORD_1ano\")\n",
    "database_1ano = os.getenv(\"DB_NAME_1ano\")\n",
    "db_url_1ano = os.getenv(\"DATABASE_URL_1ano\")\n",
    "\n",
    "host_2ano = os.getenv(\"DB_HOST_2ano\")\n",
    "port_2ano = int(os.getenv(\"DB_PORT_2ano\"))\n",
    "user_2ano = os.getenv(\"DB_USER_2ano\")\n",
    "password_2ano = os.getenv(\"DB_PASSWORD_2ano\")\n",
    "database_2ano = os.getenv(\"DB_NAME_2ano\")\n",
    "db_url_2ano = os.getenv(\"DATABASE_URL_2ano\")\n",
    "\n",
    "print(database_2ano)\n",
    "print(database_1ano)\n",
    "# conexao = MongoClient(os.getenv(\"DB_MONGO_URL\"))\n",
    "# db_name = conexao[os.getenv(\"DB_MONGO_NAME\")]\n",
    "# collection_funcoes = db_name[os.getenv(\"DB_MONGO_COLLECTION_FUNCOES\")] \n",
    "# collection_situacao_trabalhista = db_name[os.getenv(\"DB_MONGO_COLLECTION_SITUACAO_TRABALHISTA\")]"
   ]
  },
  {
   "cell_type": "code",
   "execution_count": 46,
   "metadata": {},
   "outputs": [],
   "source": [
    "try:\n",
    "    # conectando-se ao banco do 1ano\n",
    "    conn_bd1 = psycopg2.connect(\n",
    "        user=user_1ano,\n",
    "        host=host_1ano,\n",
    "        port=port_1ano,\n",
    "        password=password_1ano,\n",
    "        database=database_1ano,\n",
    "    )\n",
    "\n",
    "    # conectando-se ao banco do 2ano\n",
    "    conn_bd2 = psycopg2.connect(\n",
    "        user=user_2ano,\n",
    "        host=host_2ano,\n",
    "        port=port_2ano,\n",
    "        password=password_2ano,\n",
    "        database=database_2ano,\n",
    "    )\n",
    "    \n",
    "except Exception as e:\n",
    "    print(\"Error connecting to PostgreSQL:\", e)"
   ]
  },
  {
   "cell_type": "code",
   "execution_count": 10,
   "metadata": {},
   "outputs": [],
   "source": [
    "# try:\n",
    "#     # conectando-se ao banco do 1ano\n",
    "#     conn_bd1 = create_engine(db_url_1ano)\n",
    "\n",
    "#     # conectando-se ao banco do 2ano\n",
    "#     conn_bd2 = create_engine(db_url_2ano)\n",
    "    \n",
    "# except Exception as e:\n",
    "#     print(\"Error connecting to PostgreSQL:\", e)"
   ]
  },
  {
   "cell_type": "code",
   "execution_count": 47,
   "metadata": {},
   "outputs": [],
   "source": [
    "# Criando um cursores para fazer queries em ambos os bancos\n",
    "cursor_bd1 = conn_bd1.cursor()\n",
    "cursor_bd2 = conn_bd2.cursor()"
   ]
  },
  {
   "cell_type": "markdown",
   "metadata": {},
   "source": [
    "## tipo_vaga"
   ]
  },
  {
   "cell_type": "code",
   "execution_count": 17,
   "metadata": {},
   "outputs": [
    {
     "name": "stderr",
     "output_type": "stream",
     "text": [
      "C:\\Users\\oliviadomingues-ieg\\AppData\\Local\\Temp\\ipykernel_13364\\2540846623.py:2: UserWarning: pandas only supports SQLAlchemy connectable (engine/connection) or database string URI or sqlite3 DBAPI2 connection. Other DBAPI2 objects are not tested. Please consider using SQLAlchemy.\n",
      "  df_tipo_vaga_bd2 = pd.read_sql_query(\"SELECT * FROM tipo_vaga;\", conn_bd2)\n"
     ]
    }
   ],
   "source": [
    "# Lendo os valores da tabela tipo_vaga do 2ano\n",
    "df_tipo_vaga_bd2 = pd.read_sql_query(\"SELECT * FROM tipo_vaga;\", conn_bd2)\n",
    "\n",
    "try:\n",
    "    for i in range(len(df_tipo_vaga_bd2)):\n",
    "        # Lendo os valores de cada linha do dataframe que contém as informações da tabela tipo_vaga do 2ano\n",
    "        values2o = (df_tipo_vaga_bd2['nome'][i], df_tipo_vaga_bd2['id'][i])\n",
    "        \n",
    "        # Query para atualizar a tabela do 1o com as informações do 2o\n",
    "        update_query = \"UPDATE public.tipo_vaga SET nome = %s WHERE id = %s;\"\n",
    "\n",
    "        # Executando a query de atualização\n",
    "        cursor_bd1.execute(update_query, values2o)\n",
    "        \n",
    "        # Se a query de atualização não tiver nenhuma linha alterada, então significa que os valores na tabela do 2o são novos\n",
    "        if cursor_bd1.rowcount == 0:\n",
    "            # query para inserir\n",
    "            insert_query = \"INSERT INTO public.tipo_vaga(nome, id) VALUES (%s, %s);\"\n",
    "\n",
    "            # Executando a query de insert\n",
    "            cursor_bd1.execute(insert_query, values2o)\n",
    "\n",
    "    conn_bd1.commit()  # Commit das alterações no bd1\n",
    "\n",
    "except Exception as e:\n",
    "    print(f\"Ocorreu um erro: {e}\")\n"
   ]
  },
  {
   "cell_type": "markdown",
   "metadata": {},
   "source": [
    "## permissao_vaga"
   ]
  },
  {
   "cell_type": "code",
   "execution_count": 26,
   "metadata": {},
   "outputs": [
    {
     "name": "stderr",
     "output_type": "stream",
     "text": [
      "C:\\Users\\oliviadomingues-ieg\\AppData\\Local\\Temp\\ipykernel_13364\\2017490817.py:2: UserWarning: pandas only supports SQLAlchemy connectable (engine/connection) or database string URI or sqlite3 DBAPI2 connection. Other DBAPI2 objects are not tested. Please consider using SQLAlchemy.\n",
      "  df_tipo_vaga_bd2 = pd.read_sql_query(\"SELECT * FROM permissao_vaga;\", conn_bd2)\n"
     ]
    }
   ],
   "source": [
    "# Lendo os valores da tabela tipo_vaga do 2ano\n",
    "df_tipo_vaga_bd2 = pd.read_sql_query(\"SELECT * FROM permissao_vaga;\", conn_bd2)\n",
    "\n",
    "try:\n",
    "    for i in range(len(df_tipo_vaga_bd2)):\n",
    "\n",
    "        # Lendo os valores de cada linha do dataframe que contém as informações da tabela tipo_vaga do 2ano\n",
    "        # isso pode ser a versão do meu driver\n",
    "        values2o = (bool(df_tipo_vaga_bd2['permissao'][i]), df_tipo_vaga_bd2['id'][i], df_tipo_vaga_bd2['fk_vaga_id'][i])\n",
    "\n",
    "        # Query para atualizar a tabela do 1o com as informações do 2o\n",
    "        update_query = \"UPDATE public.permissao_vaga SET permissao = %s WHERE id = %s;\"\n",
    "\n",
    "        # Executando a query de atualização\n",
    "        cursor_bd1.execute(update_query, (values2o[0], values2o[1]))\n",
    "\n",
    "        # Se a query de atualização não tiver nenhuma linha alterada, então significa que os valores na tabela do 2o são novos\n",
    "        if cursor_bd1.rowcount == 0:\n",
    "            # query para inserir\n",
    "            insert_query = \"INSERT INTO public.permissao_vaga(permissao, id, fk_vaga_id) VALUES (%s, %s, %s);\"\n",
    "\n",
    "            # Executando a query de insert\n",
    "            cursor_bd1.execute(insert_query, values2o)\n",
    "\n",
    "    # Queries para pegar os IDs da \n",
    "    cursor_bd2.execute(\"SELECT id FROM permissao_vaga;\")\n",
    "    ids_bd2 = [id_[0] for id_ in cursor_bd2.fetchall()]\n",
    "\n",
    "    # Deletando todos os registros na tabela do 1o que não estão presentes na tabela do 2o\n",
    "    delete_query = f\"\"\"\n",
    "        DELETE FROM public.permissao_vaga\n",
    "        WHERE id NOT IN {tuple(ids_bd2)}\n",
    "    \"\"\"\n",
    "\n",
    "    cursor_bd1.execute(delete_query)\n",
    "\n",
    "    conn_bd1.commit()  # Commit das alterações no bd1\n",
    "\n",
    "except Exception as e:\n",
    "    print(f\"Ocorreu um erro: {e}\")"
   ]
  },
  {
   "cell_type": "markdown",
   "metadata": {},
   "source": [
    "## situacao_trabalhista"
   ]
  },
  {
   "cell_type": "code",
   "execution_count": 27,
   "metadata": {},
   "outputs": [
    {
     "name": "stderr",
     "output_type": "stream",
     "text": [
      "C:\\Users\\oliviadomingues-ieg\\AppData\\Local\\Temp\\ipykernel_13364\\1474728197.py:2: UserWarning: pandas only supports SQLAlchemy connectable (engine/connection) or database string URI or sqlite3 DBAPI2 connection. Other DBAPI2 objects are not tested. Please consider using SQLAlchemy.\n",
      "  df_tipo_vaga_bd2 = pd.read_sql_query(\"SELECT * FROM situacao_trabalhista;\", conn_bd2)\n"
     ]
    }
   ],
   "source": [
    "# Lendo os valores da tabela tipo_vaga do 2ano\n",
    "df_tipo_vaga_bd2 = pd.read_sql_query(\"SELECT * FROM situacao_trabalhista;\", conn_bd2)\n",
    "\n",
    "try:\n",
    "    for i in range(len(df_tipo_vaga_bd2)):\n",
    "        # Lendo os valores de cada linha do dataframe que contém as informações da tabela tipo_vaga do 2ano\n",
    "        values2o = (df_tipo_vaga_bd2['nome'][i], df_tipo_vaga_bd2['id'][i])\n",
    "        \n",
    "        # Query para atualizar a tabela do 1o com as informações do 2o\n",
    "        update_query = \"UPDATE public.situacao_trabalhista SET nome = %s WHERE id = %s;\"\n",
    "\n",
    "        # Executando a query de atualização\n",
    "        cursor_bd1.execute(update_query, values2o)\n",
    "\n",
    "        # Se a query de atualização não tiver nenhuma linha alterada, então significa que os valores na tabela do 2o são novos\n",
    "        if cursor_bd1.rowcount == 0:\n",
    "            # query para inserir\n",
    "            insert_query = \"INSERT INTO public.situacao_trabalhista(nome, id) VALUES (%s, %s);\"\n",
    "\n",
    "            # Executando a query de insert\n",
    "            cursor_bd1.execute(insert_query, values2o)\n",
    "\n",
    "    conn_bd1.commit()  # Commit das alterações no bd1\n",
    "\n",
    "except Exception as e:\n",
    "    print(f\"Ocorreu um erro: {e}\")"
   ]
  },
  {
   "cell_type": "markdown",
   "metadata": {},
   "source": [
    "## setor"
   ]
  },
  {
   "cell_type": "code",
   "execution_count": 31,
   "metadata": {},
   "outputs": [
    {
     "name": "stderr",
     "output_type": "stream",
     "text": [
      "C:\\Users\\oliviadomingues-ieg\\AppData\\Local\\Temp\\ipykernel_13364\\671103324.py:2: UserWarning: pandas only supports SQLAlchemy connectable (engine/connection) or database string URI or sqlite3 DBAPI2 connection. Other DBAPI2 objects are not tested. Please consider using SQLAlchemy.\n",
      "  df_tipo_vaga_bd2 = pd.read_sql_query(\"SELECT * FROM setor;\", conn_bd2)\n"
     ]
    }
   ],
   "source": [
    "# Lendo os valores da tabela tipo_vaga do 2ano\n",
    "df_tipo_vaga_bd2 = pd.read_sql_query(\"SELECT * FROM setor;\", conn_bd2)\n",
    "\n",
    "try:\n",
    "    for i in range(len(df_tipo_vaga_bd2)):\n",
    "        # Lendo os valores de cada linha do dataframe que contém as informações da tabela tipo_vaga do 2ano\n",
    "        values2o = (df_tipo_vaga_bd2['nome'][i], df_tipo_vaga_bd2['id'][i])\n",
    "        \n",
    "        # Query para atualizar a tabela do 1o com as informações do 2o\n",
    "        update_query = \"UPDATE public.setor SET nome = %s WHERE id = %s;\"\n",
    "\n",
    "        # Executando a query de atualização\n",
    "        cursor_bd1.execute(update_query, values2o)\n",
    "\n",
    "        # Se a query de atualização não tiver nenhuma linha alterada, então significa que os valores na tabela do 2o são novos\n",
    "        if cursor_bd1.rowcount == 0:\n",
    "            # query para inserir\n",
    "            insert_query = \"INSERT INTO public.setor(nome, id) VALUES (%s, %s);\"\n",
    "\n",
    "            # Executando a query de insert\n",
    "            cursor_bd1.execute(insert_query, values2o)\n",
    "\n",
    "    conn_bd1.commit()  # Commit das alterações no bd1\n",
    "    #conn_bd2.commit()  # Commit das alterações no bd2\n",
    "\n",
    "except Exception as e:\n",
    "    print(f\"Ocorreu um erro: {e}\")\n"
   ]
  },
  {
   "cell_type": "markdown",
   "metadata": {},
   "source": [
    "## tipo_arquivo"
   ]
  },
  {
   "cell_type": "code",
   "execution_count": 29,
   "metadata": {},
   "outputs": [
    {
     "name": "stdout",
     "output_type": "stream",
     "text": [
      "('PDF', 'e7a9de83-6cc5-4db8-a6c1-899468571d85')\n",
      "Rowcount:  1\n",
      "('Imagem', 'f4776511-213e-4a63-abf2-1de797615d47')\n",
      "Rowcount:  1\n",
      "('Documento', '715e717b-04d5-4b1d-9c3a-21e4f336d801')\n",
      "Rowcount:  1\n",
      "('DOC', '840fe6bb-49dd-4e4f-9779-f5ccf783d87c')\n",
      "Rowcount:  1\n",
      "('DOCX', 'e789d47c-8c96-4a28-aa7c-c0a5743d51a0')\n",
      "Rowcount:  1\n",
      "('Texto', '1823cbac-a018-4cce-a642-d3a8b1c1f0d0')\n",
      "Rowcount:  1\n",
      "('Planilha', '2e56845d-84ff-47e4-a3f9-64c6ae4f84ad')\n",
      "Rowcount:  1\n",
      "('Apresentação', 'cf97e830-1324-47c6-a85c-eb5ac35765b7')\n",
      "Rowcount:  1\n"
     ]
    },
    {
     "name": "stderr",
     "output_type": "stream",
     "text": [
      "C:\\Users\\oliviadomingues-ieg\\AppData\\Local\\Temp\\ipykernel_13364\\48969208.py:2: UserWarning: pandas only supports SQLAlchemy connectable (engine/connection) or database string URI or sqlite3 DBAPI2 connection. Other DBAPI2 objects are not tested. Please consider using SQLAlchemy.\n",
      "  df_tipo_vaga_bd2 = pd.read_sql_query(\"SELECT * FROM tipo_arquivo;\", conn_bd2)\n"
     ]
    }
   ],
   "source": [
    "# Lendo os valores da tabela tipo_vaga do 2ano\n",
    "df_tipo_vaga_bd2 = pd.read_sql_query(\"SELECT * FROM tipo_arquivo;\", conn_bd2)\n",
    "\n",
    "try:\n",
    "    for i in range(len(df_tipo_vaga_bd2)):\n",
    "        # Lendo os valores de cada linha do dataframe que contém as informações da tabela tipo_vaga do 2ano\n",
    "        values2o = (df_tipo_vaga_bd2['nome'][i], df_tipo_vaga_bd2['id'][i])\n",
    "\n",
    "        # Query para atualizar a tabela do 1o com as informações do 2o\n",
    "        update_query = \"UPDATE public.tipo_arquivo SET nome = %s WHERE id = %s;\"\n",
    "\n",
    "        # Executando a query de atualização\n",
    "        cursor_bd1.execute(update_query, values2o)\n",
    "\n",
    "        # Se a query de atualização não tiver nenhuma linha alterada, então significa que os valores na tabela do 2o são novos\n",
    "        if cursor_bd1.rowcount == 0:\n",
    "            # query para inserir\n",
    "            insert_query = \"INSERT INTO public.tipo_arquivo(nome, id) VALUES (%s, %s);\"\n",
    "\n",
    "            # Executando a query de insert\n",
    "            cursor_bd1.execute(insert_query, values2o)\n",
    "            \n",
    "        conn_bd1.commit()  # Commit das alterações no bd1\n",
    "\n",
    "except Exception as e:\n",
    "    print(f\"Ocorreu um erro ao processar o registro {i}: {e}\")\n"
   ]
  },
  {
   "cell_type": "markdown",
   "metadata": {},
   "source": [
    "## permissao_curso"
   ]
  },
  {
   "cell_type": "code",
   "execution_count": 48,
   "metadata": {},
   "outputs": [
    {
     "name": "stdout",
     "output_type": "stream",
     "text": [
      "                                     id  permissao  \\\n",
      "0  d0b8ee46-4191-4886-8c57-c0fb7cacac7c       True   \n",
      "1  32af9acd-6120-4be3-8aa9-134f8cf91206      False   \n",
      "\n",
      "                            fk_curso_id  \n",
      "0  cf9ffd85-d564-46c5-9a07-7cd42393bda5  \n",
      "1  6245647a-c84b-4c0c-9239-dac8d2eaac1b  \n"
     ]
    },
    {
     "name": "stderr",
     "output_type": "stream",
     "text": [
      "C:\\Users\\oliviadomingues-ieg\\AppData\\Local\\Temp\\ipykernel_13364\\4083892168.py:2: UserWarning: pandas only supports SQLAlchemy connectable (engine/connection) or database string URI or sqlite3 DBAPI2 connection. Other DBAPI2 objects are not tested. Please consider using SQLAlchemy.\n",
      "  df_permissao_curso = pd.read_sql_query(\"SELECT * FROM permissao_curso;\", conn_bd2)\n"
     ]
    }
   ],
   "source": [
    "# Lendo os valores da tabela permissao_curso do 2ano\n",
    "df_permissao_curso = pd.read_sql_query(\"SELECT * FROM permissao_curso;\", conn_bd2)\n",
    "\n",
    "try:\n",
    "    for i in range(len(df_permissao_curso)):\n",
    "        # Lendo os valores de cada linha do dataframe\n",
    "        values2o = (bool(df_permissao_curso['permissao'][i]), df_permissao_curso['id'][i], df_permissao_curso['fk_curso_id'][i])\n",
    "\n",
    "        # Query para atualizar a tabela do 1o com as informações do 2o\n",
    "        update_query = \"UPDATE public.permissao_curso SET permissao = %s WHERE id = %s;\"\n",
    "        cursor_bd1.execute(update_query, (values2o[0], values2o[1]))\n",
    "\n",
    "        # Se a query de atualização não tiver nenhuma linha alterada, insira os novos valores\n",
    "        if cursor_bd1.rowcount == 0:\n",
    "            insert_query = \"INSERT INTO public.permissao_curso (permissao, id, fk_curso_id) VALUES (%s, %s, %s);\"\n",
    "            cursor_bd1.execute(insert_query, values2o)\n",
    "\n",
    "    # Pegando os IDs da tabela permissao_vaga no 2o banco\n",
    "    cursor_bd2.execute(\"SELECT id FROM permissao_vaga;\")\n",
    "    ids_bd2 = [id_[0] for id_ in cursor_bd2.fetchall()]\n",
    "\n",
    "    # Verificando a quantidade de IDs para deletar registros\n",
    "    if ids_bd2:\n",
    "        # Deletando registros do 1o banco que não estão no 2o\n",
    "        delete_query = f\"DELETE FROM public.permissao_vaga WHERE id NOT IN {tuple(ids_bd2)}\"\n",
    "        cursor_bd1.execute(delete_query)\n",
    "\n",
    "    # Commit das alterações no bd1\n",
    "    conn_bd1.commit()\n",
    "\n",
    "except Exception as e:\n",
    "    print(f\"Ocorreu um erro: {e}\")\n"
   ]
  },
  {
   "cell_type": "code",
   "execution_count": 19,
   "metadata": {},
   "outputs": [],
   "source": [
    "conn_bd2.close()\n",
    "conn_bd1.close()\n"
   ]
  }
 ],
 "metadata": {
  "kernelspec": {
   "display_name": "Python 3",
   "language": "python",
   "name": "python3"
  },
  "language_info": {
   "codemirror_mode": {
    "name": "ipython",
    "version": 3
   },
   "file_extension": ".py",
   "mimetype": "text/x-python",
   "name": "python",
   "nbconvert_exporter": "python",
   "pygments_lexer": "ipython3",
   "version": "3.11.9"
  }
 },
 "nbformat": 4,
 "nbformat_minor": 2
}
